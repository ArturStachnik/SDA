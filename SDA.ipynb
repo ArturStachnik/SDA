{
  "nbformat": 4,
  "nbformat_minor": 0,
  "metadata": {
    "colab": {
      "provenance": [],
      "authorship_tag": "ABX9TyPfgkA/oMgye9FZ10J0Il99",
      "include_colab_link": true
    },
    "kernelspec": {
      "name": "python3",
      "display_name": "Python 3"
    },
    "language_info": {
      "name": "python"
    }
  },
  "cells": [
    {
      "cell_type": "markdown",
      "metadata": {
        "id": "view-in-github",
        "colab_type": "text"
      },
      "source": [
        "<a href=\"https://colab.research.google.com/github/ArturStachnik/SDA/blob/main/SDA.ipynb\" target=\"_parent\"><img src=\"https://colab.research.google.com/assets/colab-badge.svg\" alt=\"Open In Colab\"/></a>"
      ]
    },
    {
      "cell_type": "markdown",
      "source": [
        "# **Statistical Data Analysis for all Kind of data**"
      ],
      "metadata": {
        "id": "4z0uoP25Jy9w"
      }
    },
    {
      "cell_type": "markdown",
      "source": [
        "This notebook helps the user to have a better understanding of the data to analyze by doing a statistacal review.\n",
        "\n",
        "In order to work with it, make a copy locally or inside your Google Drive and adapt it to your necessities."
      ],
      "metadata": {
        "id": "BX5vRBgmk-GN"
      }
    },
    {
      "cell_type": "markdown",
      "source": [
        "Import the needed libraries"
      ],
      "metadata": {
        "id": "r1IE1ptDKklZ"
      }
    },
    {
      "cell_type": "code",
      "source": [
        "import numpy as np\n",
        "import pandas as pd\n",
        "import matplotlib.pyplot as plt"
      ],
      "metadata": {
        "id": "pcy9HBz3K0QL"
      },
      "execution_count": 1,
      "outputs": []
    },
    {
      "cell_type": "markdown",
      "source": [
        "Import the data series, it has to be  imported as 'data.csv'\n",
        "\n",
        "By default is 'UTF-8' encoded, but if Spanish language is used change to 'latin-1'\n",
        "\n",
        "By default is ' , ' separated but can be changed into ' ; '"
      ],
      "metadata": {
        "id": "xwshanpHK1yf"
      }
    },
    {
      "cell_type": "code",
      "source": [
        "pd.set_option('display.max_columns', None)\n",
        "data = pd.read_csv('data.csv', sep=';', encoding='UTF-8')"
      ],
      "metadata": {
        "id": "mshWjNJvK_I3"
      },
      "execution_count": 2,
      "outputs": []
    },
    {
      "cell_type": "markdown",
      "source": [
        "Chech de data structure"
      ],
      "metadata": {
        "id": "92z8pLAGMySC"
      }
    },
    {
      "cell_type": "code",
      "source": [
        "data.info()"
      ],
      "metadata": {
        "id": "O92GJBEqgCMM"
      },
      "execution_count": null,
      "outputs": []
    },
    {
      "cell_type": "code",
      "source": [
        "data.head()"
      ],
      "metadata": {
        "id": "FXV9iJ34M4Fd"
      },
      "execution_count": null,
      "outputs": []
    },
    {
      "cell_type": "code",
      "source": [
        "data.describe()"
      ],
      "metadata": {
        "id": "NGvNq8eKNBTS"
      },
      "execution_count": null,
      "outputs": []
    },
    {
      "cell_type": "markdown",
      "source": [
        "Identify NaN values and replace divergent ones by NaN"
      ],
      "metadata": {
        "id": "8OnO7rNjmSQ2"
      }
    },
    {
      "cell_type": "code",
      "source": [
        "df1 = data[data.isna().any(axis=1)]\n",
        "df1"
      ],
      "metadata": {
        "id": "8NfHebe9ml7W"
      },
      "execution_count": null,
      "outputs": []
    },
    {
      "cell_type": "code",
      "source": [
        "data.replace('value', np.nan)"
      ],
      "metadata": {
        "id": "VzbRXwk7mmUm"
      },
      "execution_count": null,
      "outputs": []
    },
    {
      "cell_type": "markdown",
      "source": [
        "Represent the columns density and box plots"
      ],
      "metadata": {
        "id": "q-0eKOD0kADk"
      }
    },
    {
      "cell_type": "code",
      "source": [
        "density_cols = ['Col1', 'Col2', 'Col3', 'Col4', 'Col5', 'Col6']\n",
        "\n",
        "data[density_cols].plot(kind='density', subplots=True, layout=(2,3), figsize=(14,8))"
      ],
      "metadata": {
        "id": "BZJbLQKikJy3"
      },
      "execution_count": null,
      "outputs": []
    },
    {
      "cell_type": "code",
      "source": [
        "boxplot_cols = ['Col1', 'Col2', 'Col3', 'Col4', 'Col5', 'Col6']\n",
        "\n",
        "data[boxplot_cols].plot(kind='box', subplots=True, layout=(2,3), figsize=(14,8))"
      ],
      "metadata": {
        "id": "o3Rch5-hkdJ1"
      },
      "execution_count": null,
      "outputs": []
    },
    {
      "cell_type": "markdown",
      "source": [
        "Represent the value of any column"
      ],
      "metadata": {
        "id": "1GZIFTPNgSaS"
      }
    },
    {
      "cell_type": "code",
      "source": [
        "data['column'].describe()"
      ],
      "metadata": {
        "id": "D3bf7AoBhEQT"
      },
      "execution_count": null,
      "outputs": []
    },
    {
      "cell_type": "code",
      "source": [
        "data['column'].median()"
      ],
      "metadata": {
        "id": "tEe06VysiBaD"
      },
      "execution_count": null,
      "outputs": []
    },
    {
      "cell_type": "code",
      "source": [
        "data['column'].value_counts()"
      ],
      "metadata": {
        "id": "xeeNRwu5ieDL"
      },
      "execution_count": null,
      "outputs": []
    },
    {
      "cell_type": "code",
      "source": [
        "data['column'].plot(kind='box', vert=False, figsize=(14,6))"
      ],
      "metadata": {
        "id": "aOMvqHL5gS6K"
      },
      "execution_count": null,
      "outputs": []
    },
    {
      "cell_type": "code",
      "source": [
        "df['column'].plot(kind='density', vert=False, figsize=(14,6))"
      ],
      "metadata": {
        "id": "5jCMh943ghDK"
      },
      "execution_count": null,
      "outputs": []
    },
    {
      "cell_type": "markdown",
      "source": [
        "Represent column density vs mean and median"
      ],
      "metadata": {
        "id": "nHaAvCsiiKvs"
      }
    },
    {
      "cell_type": "code",
      "source": [
        "ax = data['column'].plot(kind='density', figsize=(14,6))\n",
        "ax.axvline(data['column'].mean(), color='red')\n",
        "ax.axvline(data['column'].median(), color='green')"
      ],
      "metadata": {
        "id": "Pjxg3YRBiNkr"
      },
      "execution_count": null,
      "outputs": []
    },
    {
      "cell_type": "markdown",
      "source": [
        "Filter data by a speciphic column value"
      ],
      "metadata": {
        "id": "N9sG2nJVR8t-"
      }
    },
    {
      "cell_type": "code",
      "source": [
        "df2 = data[data.column == 'value']\n",
        "df2.describe()"
      ],
      "metadata": {
        "id": "l3UB_JUGSFHv"
      },
      "execution_count": null,
      "outputs": []
    },
    {
      "cell_type": "code",
      "source": [
        "data.loc[data['column'] == 'value']"
      ],
      "metadata": {
        "id": "MmZqpIf4g9_q"
      },
      "execution_count": null,
      "outputs": []
    },
    {
      "cell_type": "markdown",
      "source": [
        "Generate a correlation chart"
      ],
      "metadata": {
        "id": "T3h8sY7djd88"
      }
    },
    {
      "cell_type": "code",
      "source": [
        "corr = data.corr()\n",
        "\n",
        "corr"
      ],
      "metadata": {
        "id": "WlRI-grejhqr"
      },
      "execution_count": null,
      "outputs": []
    },
    {
      "cell_type": "code",
      "source": [
        "fig = plt.figure(figsize=(8,8))\n",
        "plt.matshow(corr, cmap='RdBu', fignum=fig.number)\n",
        "plt.xticks(range(len(corr.columns)), corr.columns, rotation='vertical');\n",
        "plt.yticks(range(len(corr.columns)), corr.columns);"
      ],
      "metadata": {
        "id": "FQctE-Uxjnnc"
      },
      "execution_count": null,
      "outputs": []
    },
    {
      "cell_type": "markdown",
      "source": [
        "Interpolate data series with NaN values"
      ],
      "metadata": {
        "id": "9FTPtWjXmMaH"
      }
    },
    {
      "cell_type": "code",
      "source": [
        "data['column'].interpolate(method='polynomial', order=2)"
      ],
      "metadata": {
        "id": "za0y8g9Pnas2"
      },
      "execution_count": null,
      "outputs": []
    },
    {
      "cell_type": "code",
      "source": [
        "data['column'].interpolate(method='time')"
      ],
      "metadata": {
        "id": "4NV2v2eCqwOs"
      },
      "execution_count": null,
      "outputs": []
    }
  ]
}
